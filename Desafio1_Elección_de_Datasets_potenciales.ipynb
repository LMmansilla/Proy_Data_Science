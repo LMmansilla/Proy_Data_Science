{
 "cells": [
  {
   "cell_type": "markdown",
   "id": "3312c7a3",
   "metadata": {},
   "source": [
    "# Elección de Datasets potenciales - Desafio Clase 5\n",
    "\n",
    "##### Deberás entregar el primer avance de tu proyecto final. Identificarás 3 datasets potenciales con las siguientes características: i) al menos 2000 filas, ii) al menos 15 columnas. Posterior a esto crearás un notebook donde cargarás los datos utilizando la librería pandas y finalmente describirás las variables que sean más interesantes teniendo en cuenta el contexto comercial y analítico del problema que se quiera resolver."
   ]
  },
  {
   "cell_type": "markdown",
   "id": "065ff67f",
   "metadata": {},
   "source": [
    "## Dataset N°1 Properati"
   ]
  },
  {
   "cell_type": "code",
   "execution_count": 1,
   "id": "d7d2c7a0",
   "metadata": {},
   "outputs": [],
   "source": [
    "import pandas as pd\n",
    "import numpy as np"
   ]
  },
  {
   "cell_type": "code",
   "execution_count": 2,
   "id": "1e7cf508",
   "metadata": {},
   "outputs": [],
   "source": [
    "# Se carga archivo CSV\n",
    "data_properati = pd.read_csv('../ar_properties_1.csv', encoding= \"latin-1\")\n"
   ]
  },
  {
   "cell_type": "code",
   "execution_count": 3,
   "id": "d43b323a",
   "metadata": {},
   "outputs": [
    {
     "data": {
      "text/html": [
       "<div>\n",
       "<style scoped>\n",
       "    .dataframe tbody tr th:only-of-type {\n",
       "        vertical-align: middle;\n",
       "    }\n",
       "\n",
       "    .dataframe tbody tr th {\n",
       "        vertical-align: top;\n",
       "    }\n",
       "\n",
       "    .dataframe thead th {\n",
       "        text-align: right;\n",
       "    }\n",
       "</style>\n",
       "<table border=\"1\" class=\"dataframe\">\n",
       "  <thead>\n",
       "    <tr style=\"text-align: right;\">\n",
       "      <th></th>\n",
       "      <th>id</th>\n",
       "      <th>ad_type</th>\n",
       "      <th>start_date</th>\n",
       "      <th>end_date</th>\n",
       "      <th>created_on</th>\n",
       "      <th>lat</th>\n",
       "      <th>lon</th>\n",
       "      <th>l1</th>\n",
       "      <th>l2</th>\n",
       "      <th>l3</th>\n",
       "      <th>...</th>\n",
       "      <th>bathrooms</th>\n",
       "      <th>surface_total</th>\n",
       "      <th>surface_covered</th>\n",
       "      <th>price</th>\n",
       "      <th>currency</th>\n",
       "      <th>price_period</th>\n",
       "      <th>title</th>\n",
       "      <th>description</th>\n",
       "      <th>property_type</th>\n",
       "      <th>operation_type</th>\n",
       "    </tr>\n",
       "  </thead>\n",
       "  <tbody>\n",
       "    <tr>\n",
       "      <th>0</th>\n",
       "      <td>DyVXfkpKygVBKuUk5olH+A==</td>\n",
       "      <td>Propiedad</td>\n",
       "      <td>2020-08-22</td>\n",
       "      <td>2020-09-03</td>\n",
       "      <td>2020-08-22</td>\n",
       "      <td>-34.407468</td>\n",
       "      <td>-58.957367</td>\n",
       "      <td>Argentina</td>\n",
       "      <td>Bs.As. G.B.A. Zona Norte</td>\n",
       "      <td>Pilar</td>\n",
       "      <td>...</td>\n",
       "      <td>NaN</td>\n",
       "      <td>133139.0</td>\n",
       "      <td>NaN</td>\n",
       "      <td>NaN</td>\n",
       "      <td>NaN</td>\n",
       "      <td>Mensual</td>\n",
       "      <td>VENTA - Lote Industrial 130.000m2 - Parque Ind...</td>\n",
       "      <td>Lote (Nro.50) mide 133.139 m2\\n&lt;br&gt;Valor: U$S ...</td>\n",
       "      <td>Lote</td>\n",
       "      <td>Venta</td>\n",
       "    </tr>\n",
       "    <tr>\n",
       "      <th>1</th>\n",
       "      <td>9naojilaMecJN4jlQiTkGg==</td>\n",
       "      <td>Propiedad</td>\n",
       "      <td>2020-08-22</td>\n",
       "      <td>2020-09-04</td>\n",
       "      <td>2020-08-22</td>\n",
       "      <td>-37.996039</td>\n",
       "      <td>-57.542509</td>\n",
       "      <td>Argentina</td>\n",
       "      <td>Buenos Aires Costa AtlÃ¡ntica</td>\n",
       "      <td>Mar del Plata</td>\n",
       "      <td>...</td>\n",
       "      <td>NaN</td>\n",
       "      <td>687.0</td>\n",
       "      <td>687.0</td>\n",
       "      <td>NaN</td>\n",
       "      <td>NaN</td>\n",
       "      <td>Mensual</td>\n",
       "      <td>Casa - Santa Cecilia</td>\n",
       "      <td>Conjunto edilicio de casa y departamentos en b...</td>\n",
       "      <td>Otro</td>\n",
       "      <td>Venta</td>\n",
       "    </tr>\n",
       "    <tr>\n",
       "      <th>2</th>\n",
       "      <td>tlCPRJPjoDEUzuuCelemAQ==</td>\n",
       "      <td>Propiedad</td>\n",
       "      <td>2020-08-22</td>\n",
       "      <td>2020-08-31</td>\n",
       "      <td>2020-08-22</td>\n",
       "      <td>-31.380187</td>\n",
       "      <td>-58.009182</td>\n",
       "      <td>Argentina</td>\n",
       "      <td>Entre RÃ­os</td>\n",
       "      <td>Concordia</td>\n",
       "      <td>...</td>\n",
       "      <td>1.0</td>\n",
       "      <td>80.0</td>\n",
       "      <td>80.0</td>\n",
       "      <td>NaN</td>\n",
       "      <td>NaN</td>\n",
       "      <td>Mensual</td>\n",
       "      <td>Casa - Concordia</td>\n",
       "      <td>Casa de un dormitorio, cocina, baÃ±o, living c...</td>\n",
       "      <td>Casa</td>\n",
       "      <td>Alquiler</td>\n",
       "    </tr>\n",
       "  </tbody>\n",
       "</table>\n",
       "<p>3 rows × 25 columns</p>\n",
       "</div>"
      ],
      "text/plain": [
       "                         id    ad_type  start_date    end_date  created_on  \\\n",
       "0  DyVXfkpKygVBKuUk5olH+A==  Propiedad  2020-08-22  2020-09-03  2020-08-22   \n",
       "1  9naojilaMecJN4jlQiTkGg==  Propiedad  2020-08-22  2020-09-04  2020-08-22   \n",
       "2  tlCPRJPjoDEUzuuCelemAQ==  Propiedad  2020-08-22  2020-08-31  2020-08-22   \n",
       "\n",
       "         lat        lon         l1                             l2  \\\n",
       "0 -34.407468 -58.957367  Argentina       Bs.As. G.B.A. Zona Norte   \n",
       "1 -37.996039 -57.542509  Argentina  Buenos Aires Costa AtlÃ¡ntica   \n",
       "2 -31.380187 -58.009182  Argentina                    Entre RÃ­os   \n",
       "\n",
       "              l3  ... bathrooms surface_total  surface_covered  price  \\\n",
       "0          Pilar  ...       NaN      133139.0              NaN    NaN   \n",
       "1  Mar del Plata  ...       NaN         687.0            687.0    NaN   \n",
       "2      Concordia  ...       1.0          80.0             80.0    NaN   \n",
       "\n",
       "   currency  price_period                                              title  \\\n",
       "0       NaN       Mensual  VENTA - Lote Industrial 130.000m2 - Parque Ind...   \n",
       "1       NaN       Mensual                               Casa - Santa Cecilia   \n",
       "2       NaN       Mensual                                   Casa - Concordia   \n",
       "\n",
       "                                         description  property_type  \\\n",
       "0  Lote (Nro.50) mide 133.139 m2\\n<br>Valor: U$S ...           Lote   \n",
       "1  Conjunto edilicio de casa y departamentos en b...           Otro   \n",
       "2  Casa de un dormitorio, cocina, baÃ±o, living c...           Casa   \n",
       "\n",
       "  operation_type  \n",
       "0          Venta  \n",
       "1          Venta  \n",
       "2       Alquiler  \n",
       "\n",
       "[3 rows x 25 columns]"
      ]
     },
     "execution_count": 3,
     "metadata": {},
     "output_type": "execute_result"
    }
   ],
   "source": [
    "data_properati.head(3)"
   ]
  },
  {
   "cell_type": "code",
   "execution_count": 4,
   "id": "0068ca96",
   "metadata": {},
   "outputs": [
    {
     "data": {
      "text/plain": [
       "(1000000, 25)"
      ]
     },
     "execution_count": 4,
     "metadata": {},
     "output_type": "execute_result"
    }
   ],
   "source": [
    "data_properati.shape"
   ]
  },
  {
   "cell_type": "code",
   "execution_count": 5,
   "id": "6f6a1fb2",
   "metadata": {},
   "outputs": [
    {
     "data": {
      "text/plain": [
       "Capital Federal                  265125\n",
       "Bs.As. G.B.A. Zona Norte         184310\n",
       "Bs.As. G.B.A. Zona Sur           131431\n",
       "Santa Fe                          91565\n",
       "Bs.As. G.B.A. Zona Oeste          76786\n",
       "Buenos Aires Costa AtlÃ¡ntica     73759\n",
       "CÃ³rdoba                          66274\n",
       "Buenos Aires Interior             23975\n",
       "NeuquÃ©n                          15487\n",
       "Mendoza                            9172\n",
       "RÃ­o Negro                         7935\n",
       "Maldonado                          7784\n",
       "Entre RÃ­os                        6750\n",
       "TucumÃ¡n                           6531\n",
       "Salta                              6056\n",
       "Name: l2, dtype: int64"
      ]
     },
     "execution_count": 5,
     "metadata": {},
     "output_type": "execute_result"
    }
   ],
   "source": [
    "# Se visualizan los registos unicos de provincias. Top 15\n",
    "data_properati.l2.value_counts().head(15)"
   ]
  },
  {
   "cell_type": "markdown",
   "id": "11ca4cb2",
   "metadata": {},
   "source": [
    "## Dataset N°2 AIRBNB"
   ]
  },
  {
   "cell_type": "code",
   "execution_count": 6,
   "id": "51ad9a67",
   "metadata": {},
   "outputs": [],
   "source": [
    "# Se carga archivo CSV\n",
    "data_airbnb = pd.read_csv('../Buenos_Aires_AIRBNB.csv', encoding= \"latin-1\")\n"
   ]
  },
  {
   "cell_type": "code",
   "execution_count": 7,
   "id": "e99d8bce",
   "metadata": {},
   "outputs": [
    {
     "data": {
      "text/html": [
       "<div>\n",
       "<style scoped>\n",
       "    .dataframe tbody tr th:only-of-type {\n",
       "        vertical-align: middle;\n",
       "    }\n",
       "\n",
       "    .dataframe tbody tr th {\n",
       "        vertical-align: top;\n",
       "    }\n",
       "\n",
       "    .dataframe thead th {\n",
       "        text-align: right;\n",
       "    }\n",
       "</style>\n",
       "<table border=\"1\" class=\"dataframe\">\n",
       "  <thead>\n",
       "    <tr style=\"text-align: right;\">\n",
       "      <th></th>\n",
       "      <th>id</th>\n",
       "      <th>name</th>\n",
       "      <th>host_id</th>\n",
       "      <th>host_name</th>\n",
       "      <th>neighbourhood</th>\n",
       "      <th>latitude</th>\n",
       "      <th>longitude</th>\n",
       "      <th>room_type</th>\n",
       "      <th>price</th>\n",
       "      <th>minimum_nights</th>\n",
       "      <th>number_of_reviews</th>\n",
       "      <th>last_review</th>\n",
       "      <th>reviews_per_month</th>\n",
       "      <th>calculated_host_listings_count</th>\n",
       "      <th>availability_365</th>\n",
       "    </tr>\n",
       "  </thead>\n",
       "  <tbody>\n",
       "    <tr>\n",
       "      <th>0</th>\n",
       "      <td>7270</td>\n",
       "      <td>Â¡Â¡Great Loft in Palermo Hollywood!!</td>\n",
       "      <td>18822</td>\n",
       "      <td>Toni</td>\n",
       "      <td>Palermo</td>\n",
       "      <td>-34.58241</td>\n",
       "      <td>-58.43382</td>\n",
       "      <td>Entire home/apt</td>\n",
       "      <td>2033</td>\n",
       "      <td>20</td>\n",
       "      <td>14</td>\n",
       "      <td>30-04-2018</td>\n",
       "      <td>0.15</td>\n",
       "      <td>1</td>\n",
       "      <td>363</td>\n",
       "    </tr>\n",
       "    <tr>\n",
       "      <th>1</th>\n",
       "      <td>11508</td>\n",
       "      <td>Amazing Luxurious Apt-Palermo Soho</td>\n",
       "      <td>42762</td>\n",
       "      <td>Candela</td>\n",
       "      <td>Palermo</td>\n",
       "      <td>-34.58225</td>\n",
       "      <td>-58.42460</td>\n",
       "      <td>Entire home/apt</td>\n",
       "      <td>3588</td>\n",
       "      <td>2</td>\n",
       "      <td>25</td>\n",
       "      <td>13-08-2019</td>\n",
       "      <td>0.28</td>\n",
       "      <td>1</td>\n",
       "      <td>281</td>\n",
       "    </tr>\n",
       "    <tr>\n",
       "      <th>2</th>\n",
       "      <td>12463</td>\n",
       "      <td>Room in Recoleta - awesome location</td>\n",
       "      <td>48799</td>\n",
       "      <td>Matt</td>\n",
       "      <td>Recoleta</td>\n",
       "      <td>-34.59761</td>\n",
       "      <td>-58.39468</td>\n",
       "      <td>Private room</td>\n",
       "      <td>1435</td>\n",
       "      <td>1</td>\n",
       "      <td>20</td>\n",
       "      <td>11-12-2017</td>\n",
       "      <td>0.17</td>\n",
       "      <td>1</td>\n",
       "      <td>365</td>\n",
       "    </tr>\n",
       "  </tbody>\n",
       "</table>\n",
       "</div>"
      ],
      "text/plain": [
       "      id                                   name  host_id host_name  \\\n",
       "0   7270  Â¡Â¡Great Loft in Palermo Hollywood!!    18822      Toni   \n",
       "1  11508     Amazing Luxurious Apt-Palermo Soho    42762   Candela   \n",
       "2  12463    Room in Recoleta - awesome location    48799      Matt   \n",
       "\n",
       "  neighbourhood  latitude  longitude        room_type  price  minimum_nights  \\\n",
       "0       Palermo -34.58241  -58.43382  Entire home/apt   2033              20   \n",
       "1       Palermo -34.58225  -58.42460  Entire home/apt   3588               2   \n",
       "2      Recoleta -34.59761  -58.39468     Private room   1435               1   \n",
       "\n",
       "   number_of_reviews last_review  reviews_per_month  \\\n",
       "0                 14  30-04-2018               0.15   \n",
       "1                 25  13-08-2019               0.28   \n",
       "2                 20  11-12-2017               0.17   \n",
       "\n",
       "   calculated_host_listings_count  availability_365  \n",
       "0                               1               363  \n",
       "1                               1               281  \n",
       "2                               1               365  "
      ]
     },
     "execution_count": 7,
     "metadata": {},
     "output_type": "execute_result"
    }
   ],
   "source": [
    "data_airbnb.head(3)"
   ]
  },
  {
   "cell_type": "code",
   "execution_count": 8,
   "id": "edad298e",
   "metadata": {},
   "outputs": [
    {
     "data": {
      "text/plain": [
       "(22877, 15)"
      ]
     },
     "execution_count": 8,
     "metadata": {},
     "output_type": "execute_result"
    }
   ],
   "source": [
    "data_airbnb.shape"
   ]
  },
  {
   "cell_type": "code",
   "execution_count": 9,
   "id": "6f0933d7",
   "metadata": {},
   "outputs": [
    {
     "data": {
      "text/plain": [
       "Palermo         6934\n",
       "Recoleta        3687\n",
       "San Nicolas     1316\n",
       "Retiro          1159\n",
       "Balvanera       1100\n",
       "Belgrano        1048\n",
       "Almagro          979\n",
       "Monserrat        953\n",
       "Villa Crespo     770\n",
       "San Telmo        692\n",
       "Colegiales       462\n",
       "Caballito        459\n",
       "Chacarita        426\n",
       "NuÃ±ez           424\n",
       "Constitucion     335\n",
       "Name: neighbourhood, dtype: int64"
      ]
     },
     "execution_count": 9,
     "metadata": {},
     "output_type": "execute_result"
    }
   ],
   "source": [
    "# Se visualizan los registos unicos de los barrios. Top 15\n",
    "data_airbnb.neighbourhood.value_counts().head(15)"
   ]
  },
  {
   "cell_type": "markdown",
   "id": "4c0efeda",
   "metadata": {},
   "source": [
    "## Datasets N°3 Hoteles"
   ]
  },
  {
   "cell_type": "code",
   "execution_count": 10,
   "id": "08756b1b",
   "metadata": {},
   "outputs": [],
   "source": [
    "# Se carga archivo CSV\n",
    "data_bookings = pd.read_csv('../hotel_bookings.csv', encoding= \"latin-1\")"
   ]
  },
  {
   "cell_type": "code",
   "execution_count": 11,
   "id": "aca01801",
   "metadata": {
    "scrolled": true
   },
   "outputs": [
    {
     "data": {
      "text/html": [
       "<div>\n",
       "<style scoped>\n",
       "    .dataframe tbody tr th:only-of-type {\n",
       "        vertical-align: middle;\n",
       "    }\n",
       "\n",
       "    .dataframe tbody tr th {\n",
       "        vertical-align: top;\n",
       "    }\n",
       "\n",
       "    .dataframe thead th {\n",
       "        text-align: right;\n",
       "    }\n",
       "</style>\n",
       "<table border=\"1\" class=\"dataframe\">\n",
       "  <thead>\n",
       "    <tr style=\"text-align: right;\">\n",
       "      <th></th>\n",
       "      <th>hotel</th>\n",
       "      <th>is_canceled</th>\n",
       "      <th>lead_time</th>\n",
       "      <th>arrival_date_year</th>\n",
       "      <th>arrival_date_month</th>\n",
       "      <th>arrival_date_week_number</th>\n",
       "      <th>arrival_date_day_of_month</th>\n",
       "      <th>stays_in_weekend_nights</th>\n",
       "      <th>stays_in_week_nights</th>\n",
       "      <th>adults</th>\n",
       "      <th>...</th>\n",
       "      <th>deposit_type</th>\n",
       "      <th>agent</th>\n",
       "      <th>company</th>\n",
       "      <th>days_in_waiting_list</th>\n",
       "      <th>customer_type</th>\n",
       "      <th>adr</th>\n",
       "      <th>required_car_parking_spaces</th>\n",
       "      <th>total_of_special_requests</th>\n",
       "      <th>reservation_status</th>\n",
       "      <th>reservation_status_date</th>\n",
       "    </tr>\n",
       "  </thead>\n",
       "  <tbody>\n",
       "    <tr>\n",
       "      <th>0</th>\n",
       "      <td>Resort Hotel</td>\n",
       "      <td>0</td>\n",
       "      <td>342</td>\n",
       "      <td>2015</td>\n",
       "      <td>July</td>\n",
       "      <td>27</td>\n",
       "      <td>1</td>\n",
       "      <td>0</td>\n",
       "      <td>0</td>\n",
       "      <td>2</td>\n",
       "      <td>...</td>\n",
       "      <td>No Deposit</td>\n",
       "      <td>NaN</td>\n",
       "      <td>NaN</td>\n",
       "      <td>0</td>\n",
       "      <td>Transient</td>\n",
       "      <td>0.0</td>\n",
       "      <td>0</td>\n",
       "      <td>0</td>\n",
       "      <td>Check-Out</td>\n",
       "      <td>2015-07-01</td>\n",
       "    </tr>\n",
       "    <tr>\n",
       "      <th>1</th>\n",
       "      <td>Resort Hotel</td>\n",
       "      <td>0</td>\n",
       "      <td>737</td>\n",
       "      <td>2015</td>\n",
       "      <td>July</td>\n",
       "      <td>27</td>\n",
       "      <td>1</td>\n",
       "      <td>0</td>\n",
       "      <td>0</td>\n",
       "      <td>2</td>\n",
       "      <td>...</td>\n",
       "      <td>No Deposit</td>\n",
       "      <td>NaN</td>\n",
       "      <td>NaN</td>\n",
       "      <td>0</td>\n",
       "      <td>Transient</td>\n",
       "      <td>0.0</td>\n",
       "      <td>0</td>\n",
       "      <td>0</td>\n",
       "      <td>Check-Out</td>\n",
       "      <td>2015-07-01</td>\n",
       "    </tr>\n",
       "    <tr>\n",
       "      <th>2</th>\n",
       "      <td>Resort Hotel</td>\n",
       "      <td>0</td>\n",
       "      <td>7</td>\n",
       "      <td>2015</td>\n",
       "      <td>July</td>\n",
       "      <td>27</td>\n",
       "      <td>1</td>\n",
       "      <td>0</td>\n",
       "      <td>1</td>\n",
       "      <td>1</td>\n",
       "      <td>...</td>\n",
       "      <td>No Deposit</td>\n",
       "      <td>NaN</td>\n",
       "      <td>NaN</td>\n",
       "      <td>0</td>\n",
       "      <td>Transient</td>\n",
       "      <td>75.0</td>\n",
       "      <td>0</td>\n",
       "      <td>0</td>\n",
       "      <td>Check-Out</td>\n",
       "      <td>2015-07-02</td>\n",
       "    </tr>\n",
       "  </tbody>\n",
       "</table>\n",
       "<p>3 rows × 32 columns</p>\n",
       "</div>"
      ],
      "text/plain": [
       "          hotel  is_canceled  lead_time  arrival_date_year arrival_date_month  \\\n",
       "0  Resort Hotel            0        342               2015               July   \n",
       "1  Resort Hotel            0        737               2015               July   \n",
       "2  Resort Hotel            0          7               2015               July   \n",
       "\n",
       "   arrival_date_week_number  arrival_date_day_of_month  \\\n",
       "0                        27                          1   \n",
       "1                        27                          1   \n",
       "2                        27                          1   \n",
       "\n",
       "   stays_in_weekend_nights  stays_in_week_nights  adults  ...  deposit_type  \\\n",
       "0                        0                     0       2  ...    No Deposit   \n",
       "1                        0                     0       2  ...    No Deposit   \n",
       "2                        0                     1       1  ...    No Deposit   \n",
       "\n",
       "   agent company days_in_waiting_list customer_type   adr  \\\n",
       "0    NaN     NaN                    0     Transient   0.0   \n",
       "1    NaN     NaN                    0     Transient   0.0   \n",
       "2    NaN     NaN                    0     Transient  75.0   \n",
       "\n",
       "   required_car_parking_spaces  total_of_special_requests  reservation_status  \\\n",
       "0                            0                          0           Check-Out   \n",
       "1                            0                          0           Check-Out   \n",
       "2                            0                          0           Check-Out   \n",
       "\n",
       "  reservation_status_date  \n",
       "0              2015-07-01  \n",
       "1              2015-07-01  \n",
       "2              2015-07-02  \n",
       "\n",
       "[3 rows x 32 columns]"
      ]
     },
     "execution_count": 11,
     "metadata": {},
     "output_type": "execute_result"
    }
   ],
   "source": [
    "data_bookings.head(3)"
   ]
  },
  {
   "cell_type": "code",
   "execution_count": 12,
   "id": "188adcb4",
   "metadata": {},
   "outputs": [
    {
     "data": {
      "text/plain": [
       "(119390, 32)"
      ]
     },
     "execution_count": 12,
     "metadata": {},
     "output_type": "execute_result"
    }
   ],
   "source": [
    "data_bookings.shape"
   ]
  },
  {
   "cell_type": "code",
   "execution_count": 13,
   "id": "5bf2dd98",
   "metadata": {},
   "outputs": [
    {
     "data": {
      "text/plain": [
       "City Hotel      79330\n",
       "Resort Hotel    40060\n",
       "Name: hotel, dtype: int64"
      ]
     },
     "execution_count": 13,
     "metadata": {},
     "output_type": "execute_result"
    }
   ],
   "source": [
    "# Se visualizan los registos unicos de tipo de hoteles. Top 15\n",
    "data_bookings.hotel.value_counts().head(15)"
   ]
  }
 ],
 "metadata": {
  "kernelspec": {
   "display_name": "Python 3 (ipykernel)",
   "language": "python",
   "name": "python3"
  },
  "language_info": {
   "codemirror_mode": {
    "name": "ipython",
    "version": 3
   },
   "file_extension": ".py",
   "mimetype": "text/x-python",
   "name": "python",
   "nbconvert_exporter": "python",
   "pygments_lexer": "ipython3",
   "version": "3.10.9"
  }
 },
 "nbformat": 4,
 "nbformat_minor": 5
}
