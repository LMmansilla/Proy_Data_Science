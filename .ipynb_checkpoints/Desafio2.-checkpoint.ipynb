{
 "cells": [
  {
   "cell_type": "markdown",
   "id": "3312c7a3",
   "metadata": {},
   "source": [
    "# Elección de Datasets potenciales - Desafio Clase 5\n",
    "\n",
    "##### Deberás entregar el primer avance de tu proyecto final. Identificarás 3 datasets potenciales con las siguientes características: i) al menos 2000 filas, ii) al menos 15 columnas. Posterior a esto crearás un notebook donde cargarás los datos utilizando la librería pandas y finalmente describirás las variables que sean más interesantes teniendo en cuenta el contexto comercial y analítico del problema que se quiera resolver."
   ]
  },
  {
   "cell_type": "markdown",
   "id": "065ff67f",
   "metadata": {},
   "source": [
    "## Dataset N°1 Properati"
   ]
  },
  {
   "cell_type": "code",
   "execution_count": null,
   "id": "d7d2c7a0",
   "metadata": {},
   "outputs": [],
   "source": [
    "import pandas as pd\n",
    "import numpy as np\n",
    "import seaborn as sns\n",
    "\n",
    "import matplotlib.pyplot as plt"
   ]
  },
  {
   "cell_type": "code",
   "execution_count": 2,
   "id": "1e7cf508",
   "metadata": {},
   "outputs": [],
   "source": [
    "# Se carga archivo CSV\n",
    "data_properati = pd.read_csv('../ar_properties_1.csv', encoding= \"UTF-8\")\n"
   ]
  },
  {
   "cell_type": "code",
   "execution_count": 3,
   "id": "46e53377",
   "metadata": {},
   "outputs": [
    {
     "name": "stdout",
     "output_type": "stream",
     "text": [
      "<class 'pandas.core.frame.DataFrame'>\n",
      "RangeIndex: 1000000 entries, 0 to 999999\n",
      "Data columns (total 25 columns):\n",
      " #   Column           Non-Null Count    Dtype  \n",
      "---  ------           --------------    -----  \n",
      " 0   id               1000000 non-null  object \n",
      " 1   ad_type          1000000 non-null  object \n",
      " 2   start_date       1000000 non-null  object \n",
      " 3   end_date         1000000 non-null  object \n",
      " 4   created_on       1000000 non-null  object \n",
      " 5   lat              894233 non-null   float64\n",
      " 6   lon              894191 non-null   float64\n",
      " 7   l1               1000000 non-null  object \n",
      " 8   l2               1000000 non-null  object \n",
      " 9   l3               965273 non-null   object \n",
      " 10  l4               306162 non-null   object \n",
      " 11  l5               5530 non-null     object \n",
      " 12  l6               0 non-null        float64\n",
      " 13  rooms            714179 non-null   float64\n",
      " 14  bedrooms         649933 non-null   float64\n",
      " 15  bathrooms        765122 non-null   float64\n",
      " 16  surface_total    477831 non-null   float64\n",
      " 17  surface_covered  487756 non-null   float64\n",
      " 18  price            958243 non-null   float64\n",
      " 19  currency         955491 non-null   object \n",
      " 20  price_period     429870 non-null   object \n",
      " 21  title            999999 non-null   object \n",
      " 22  description      999958 non-null   object \n",
      " 23  property_type    1000000 non-null  object \n",
      " 24  operation_type   1000000 non-null  object \n",
      "dtypes: float64(9), object(16)\n",
      "memory usage: 190.7+ MB\n"
     ]
    }
   ],
   "source": [
    "data_properati.info()"
   ]
  },
  {
   "cell_type": "code",
   "execution_count": 4,
   "id": "d43b323a",
   "metadata": {},
   "outputs": [
    {
     "data": {
      "text/html": [
       "<div>\n",
       "<style scoped>\n",
       "    .dataframe tbody tr th:only-of-type {\n",
       "        vertical-align: middle;\n",
       "    }\n",
       "\n",
       "    .dataframe tbody tr th {\n",
       "        vertical-align: top;\n",
       "    }\n",
       "\n",
       "    .dataframe thead th {\n",
       "        text-align: right;\n",
       "    }\n",
       "</style>\n",
       "<table border=\"1\" class=\"dataframe\">\n",
       "  <thead>\n",
       "    <tr style=\"text-align: right;\">\n",
       "      <th></th>\n",
       "      <th>id</th>\n",
       "      <th>ad_type</th>\n",
       "      <th>start_date</th>\n",
       "      <th>end_date</th>\n",
       "      <th>created_on</th>\n",
       "      <th>lat</th>\n",
       "      <th>lon</th>\n",
       "      <th>l1</th>\n",
       "      <th>l2</th>\n",
       "      <th>l3</th>\n",
       "      <th>...</th>\n",
       "      <th>bathrooms</th>\n",
       "      <th>surface_total</th>\n",
       "      <th>surface_covered</th>\n",
       "      <th>price</th>\n",
       "      <th>currency</th>\n",
       "      <th>price_period</th>\n",
       "      <th>title</th>\n",
       "      <th>description</th>\n",
       "      <th>property_type</th>\n",
       "      <th>operation_type</th>\n",
       "    </tr>\n",
       "  </thead>\n",
       "  <tbody>\n",
       "    <tr>\n",
       "      <th>0</th>\n",
       "      <td>DyVXfkpKygVBKuUk5olH+A==</td>\n",
       "      <td>Propiedad</td>\n",
       "      <td>2020-08-22</td>\n",
       "      <td>2020-09-03</td>\n",
       "      <td>2020-08-22</td>\n",
       "      <td>-34.407468</td>\n",
       "      <td>-58.957367</td>\n",
       "      <td>Argentina</td>\n",
       "      <td>Bs.As. G.B.A. Zona Norte</td>\n",
       "      <td>Pilar</td>\n",
       "      <td>...</td>\n",
       "      <td>NaN</td>\n",
       "      <td>133139.0</td>\n",
       "      <td>NaN</td>\n",
       "      <td>NaN</td>\n",
       "      <td>NaN</td>\n",
       "      <td>Mensual</td>\n",
       "      <td>VENTA - Lote Industrial 130.000m2 - Parque Ind...</td>\n",
       "      <td>Lote (Nro.50) mide 133.139 m2\\n&lt;br&gt;Valor: U$S ...</td>\n",
       "      <td>Lote</td>\n",
       "      <td>Venta</td>\n",
       "    </tr>\n",
       "    <tr>\n",
       "      <th>1</th>\n",
       "      <td>9naojilaMecJN4jlQiTkGg==</td>\n",
       "      <td>Propiedad</td>\n",
       "      <td>2020-08-22</td>\n",
       "      <td>2020-09-04</td>\n",
       "      <td>2020-08-22</td>\n",
       "      <td>-37.996039</td>\n",
       "      <td>-57.542509</td>\n",
       "      <td>Argentina</td>\n",
       "      <td>Buenos Aires Costa Atlántica</td>\n",
       "      <td>Mar del Plata</td>\n",
       "      <td>...</td>\n",
       "      <td>NaN</td>\n",
       "      <td>687.0</td>\n",
       "      <td>687.0</td>\n",
       "      <td>NaN</td>\n",
       "      <td>NaN</td>\n",
       "      <td>Mensual</td>\n",
       "      <td>Casa - Santa Cecilia</td>\n",
       "      <td>Conjunto edilicio de casa y departamentos en b...</td>\n",
       "      <td>Otro</td>\n",
       "      <td>Venta</td>\n",
       "    </tr>\n",
       "    <tr>\n",
       "      <th>2</th>\n",
       "      <td>tlCPRJPjoDEUzuuCelemAQ==</td>\n",
       "      <td>Propiedad</td>\n",
       "      <td>2020-08-22</td>\n",
       "      <td>2020-08-31</td>\n",
       "      <td>2020-08-22</td>\n",
       "      <td>-31.380187</td>\n",
       "      <td>-58.009182</td>\n",
       "      <td>Argentina</td>\n",
       "      <td>Entre Ríos</td>\n",
       "      <td>Concordia</td>\n",
       "      <td>...</td>\n",
       "      <td>1.0</td>\n",
       "      <td>80.0</td>\n",
       "      <td>80.0</td>\n",
       "      <td>NaN</td>\n",
       "      <td>NaN</td>\n",
       "      <td>Mensual</td>\n",
       "      <td>Casa - Concordia</td>\n",
       "      <td>Casa de un dormitorio, cocina, baño, living co...</td>\n",
       "      <td>Casa</td>\n",
       "      <td>Alquiler</td>\n",
       "    </tr>\n",
       "  </tbody>\n",
       "</table>\n",
       "<p>3 rows × 25 columns</p>\n",
       "</div>"
      ],
      "text/plain": [
       "                         id    ad_type  start_date    end_date  created_on  \\\n",
       "0  DyVXfkpKygVBKuUk5olH+A==  Propiedad  2020-08-22  2020-09-03  2020-08-22   \n",
       "1  9naojilaMecJN4jlQiTkGg==  Propiedad  2020-08-22  2020-09-04  2020-08-22   \n",
       "2  tlCPRJPjoDEUzuuCelemAQ==  Propiedad  2020-08-22  2020-08-31  2020-08-22   \n",
       "\n",
       "         lat        lon         l1                            l2  \\\n",
       "0 -34.407468 -58.957367  Argentina      Bs.As. G.B.A. Zona Norte   \n",
       "1 -37.996039 -57.542509  Argentina  Buenos Aires Costa Atlántica   \n",
       "2 -31.380187 -58.009182  Argentina                    Entre Ríos   \n",
       "\n",
       "              l3  ... bathrooms surface_total  surface_covered  price  \\\n",
       "0          Pilar  ...       NaN      133139.0              NaN    NaN   \n",
       "1  Mar del Plata  ...       NaN         687.0            687.0    NaN   \n",
       "2      Concordia  ...       1.0          80.0             80.0    NaN   \n",
       "\n",
       "   currency  price_period                                              title  \\\n",
       "0       NaN       Mensual  VENTA - Lote Industrial 130.000m2 - Parque Ind...   \n",
       "1       NaN       Mensual                               Casa - Santa Cecilia   \n",
       "2       NaN       Mensual                                   Casa - Concordia   \n",
       "\n",
       "                                         description  property_type  \\\n",
       "0  Lote (Nro.50) mide 133.139 m2\\n<br>Valor: U$S ...           Lote   \n",
       "1  Conjunto edilicio de casa y departamentos en b...           Otro   \n",
       "2  Casa de un dormitorio, cocina, baño, living co...           Casa   \n",
       "\n",
       "  operation_type  \n",
       "0          Venta  \n",
       "1          Venta  \n",
       "2       Alquiler  \n",
       "\n",
       "[3 rows x 25 columns]"
      ]
     },
     "execution_count": 4,
     "metadata": {},
     "output_type": "execute_result"
    }
   ],
   "source": [
    "data_properati.head(3)"
   ]
  },
  {
   "cell_type": "code",
   "execution_count": 5,
   "id": "0068ca96",
   "metadata": {},
   "outputs": [
    {
     "data": {
      "text/plain": [
       "(1000000, 25)"
      ]
     },
     "execution_count": 5,
     "metadata": {},
     "output_type": "execute_result"
    }
   ],
   "source": [
    "data_properati.shape"
   ]
  },
  {
   "cell_type": "code",
   "execution_count": 6,
   "id": "6f6a1fb2",
   "metadata": {},
   "outputs": [
    {
     "data": {
      "text/plain": [
       "Capital Federal                 265125\n",
       "Bs.As. G.B.A. Zona Norte        184310\n",
       "Bs.As. G.B.A. Zona Sur          131431\n",
       "Santa Fe                         91565\n",
       "Bs.As. G.B.A. Zona Oeste         76786\n",
       "Buenos Aires Costa Atlántica     73759\n",
       "Córdoba                          66274\n",
       "Buenos Aires Interior            23975\n",
       "Neuquén                          15487\n",
       "Mendoza                           9172\n",
       "Río Negro                         7935\n",
       "Maldonado                         7784\n",
       "Entre Ríos                        6750\n",
       "Tucumán                           6531\n",
       "Salta                             6056\n",
       "Name: l2, dtype: int64"
      ]
     },
     "execution_count": 6,
     "metadata": {},
     "output_type": "execute_result"
    }
   ],
   "source": [
    "# Se visualizan los registos unicos de provincias. Top 15\n",
    "prov_cant = data_properati.l2.value_counts().head(15)\n",
    "prov_cant "
   ]
  },
  {
   "cell_type": "code",
   "execution_count": 33,
   "id": "4074e0ec",
   "metadata": {},
   "outputs": [
    {
     "data": {
      "text/plain": [
       "Mensual    429842\n",
       "Semanal        17\n",
       "Diario         11\n",
       "Name: price_period, dtype: int64"
      ]
     },
     "execution_count": 33,
     "metadata": {},
     "output_type": "execute_result"
    }
   ],
   "source": [
    "# Se visualiza el tipo de contrato y su cantidad\n",
    "data_properati.price_period.value_counts()"
   ]
  },
  {
   "cell_type": "markdown",
   "id": "888a202a",
   "metadata": {},
   "source": [
    "#### Limpieza de datos"
   ]
  },
  {
   "cell_type": "code",
   "execution_count": 34,
   "id": "adaac706",
   "metadata": {},
   "outputs": [],
   "source": [
    "# Se realiza una limpieza de outliers\n",
    "Q1 = data_properati['surface_total'].quantile(0.25)\n",
    "Q3 = data_properati['surface_total'].quantile(0.75)\n",
    "IQR = Q3 - Q1\n",
    "\n",
    "\n",
    "limite_inferior = Q1 - 1.5 * IQR\n",
    "limite_superior = Q3 + 1.5 * IQR"
   ]
  },
  {
   "cell_type": "code",
   "execution_count": 28,
   "id": "2b01b98b",
   "metadata": {},
   "outputs": [],
   "source": [
    "data_properati_2 = data_properati[(data_properati['surface_total'] >= limite_inferior) & (data_properati['surface_total'] <= limite_superior) & (data_properati['surface_total'] >= 0)]\n"
   ]
  },
  {
   "cell_type": "code",
   "execution_count": 35,
   "id": "1eb3a0c8",
   "metadata": {},
   "outputs": [
    {
     "data": {
      "text/plain": [
       "(421918, 25)"
      ]
     },
     "execution_count": 35,
     "metadata": {},
     "output_type": "execute_result"
    }
   ],
   "source": [
    "data_properati_2.shape"
   ]
  },
  {
   "cell_type": "markdown",
   "id": "9de3d65b",
   "metadata": {},
   "source": [
    "### Histograma de superficies"
   ]
  },
  {
   "cell_type": "code",
   "execution_count": 36,
   "id": "e4a5df0b",
   "metadata": {},
   "outputs": [
    {
     "data": {
      "image/png": "[encoded data removed]",
      "text/plain": [
       "<Figure size 640x480 with 1 Axes>"
      ]
     },
     "metadata": {},
     "output_type": "display_data"
    }
   ],
   "source": [
    "plt.hist(data_properati_2['surface_total'], bins=50, edgecolor='black')\n",
    "plt.title('Histograma')\n",
    "plt.xlabel('Superficie')\n",
    "plt.ylabel('Frecuencia')\n",
    "plt.show()"
   ]
  }
 ],
 "metadata": {
  "kernelspec": {
   "display_name": "Python 3 (ipykernel)",
   "language": "python",
   "name": "python3"
  },
  "language_info": {
   "codemirror_mode": {
    "name": "ipython",
    "version": 3
   },
   "file_extension": ".py",
   "mimetype": "text/x-python",
   "name": "python",
   "nbconvert_exporter": "python",
   "pygments_lexer": "ipython3",
   "version": "3.10.9"
  }
 },
 "nbformat": 4,
 "nbformat_minor": 5
}
